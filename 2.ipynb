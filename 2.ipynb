{
 "cells": [
  {
   "cell_type": "code",
   "id": "initial_id",
   "metadata": {
    "collapsed": true,
    "ExecuteTime": {
     "end_time": "2024-12-26T18:03:49.142230Z",
     "start_time": "2024-12-26T18:03:49.135423Z"
    }
   },
   "source": [
    "\n",
    "#Скалярное произведение векторов\n",
    "def vec(x: list, y: list):\n",
    "    product = 0\n",
    "    for i in range(max(len(x), len(y))):#тут хотел реализовать, чтобы можно было сравнивать вектора, если у одного из них нет Z оси, но решил не заморачиваться\n",
    "        multi = x[i] * y[i]\n",
    "        product = multi + product\n",
    "    return (product)\n",
    "    \n",
    "def angle(x: list, y: list):\n",
    "    Xproduct = 0\n",
    "    Yproduct = 0\n",
    "    for i in range(len(x)):\n",
    "        multi = x[i]**2\n",
    "        Xproduct = multi + Xproduct\n",
    "    for i in range(len(y)):\n",
    "        multi = y[i]**2\n",
    "        Yproduct = multi + Yproduct\n",
    "    Xlen = Xproduct**0.5\n",
    "    Ylen = Yproduct**0.5\n",
    "    LenProd = Xlen * Ylen\n",
    "    ang = vec(x,y)/LenProd\n",
    "    return round(ang, 4)\n",
    "    \n",
    "x = [2,8,1]\n",
    "y = [3,12,-1]\n",
    "print(f'Скалярное произведение: {vec(x,y)}')\n",
    "print(f'Угол между веткорами: {angle(x,y)}')"
   ],
   "outputs": [
    {
     "name": "stdout",
     "output_type": "stream",
     "text": [
      "Скалярное произведение: 101\n",
      "Угол между веткорами: 0.9798\n"
     ]
    }
   ],
   "execution_count": 1
  },
  {
   "metadata": {
    "ExecuteTime": {
     "end_time": "2024-12-26T18:03:55.223369Z",
     "start_time": "2024-12-26T18:03:55.211745Z"
    }
   },
   "cell_type": "code",
   "source": [
    "def find_minimum():\n",
    "    def f(x): #функция\n",
    "        return x**2 + 2*x\n",
    "\n",
    "    def fpr(x):     # Первая производная\n",
    "        return 2*x + 2\n",
    "\n",
    "    def ffpr(x):     # Вторая производная\n",
    "        return 2\n",
    "\n",
    "    def uravn():\n",
    "        # первая производная 2*x + 2 = 0\n",
    "        a = 2  # Коэффициент перед x\n",
    "        b = 2  # Свободный член\n",
    "        x = -b / a\n",
    "        return x\n",
    "    \n",
    "    # Проверяем f''(x) > 0\n",
    "    if ffpr(uravn()) > 0:\n",
    "        return uravn(), f(uravn())\n",
    "    else:\n",
    "        return None\n",
    "\n",
    "minimum_point, minimum_value = find_minimum()\n",
    "print(f\"Минимум функции: значение = {minimum_value}, точка = {minimum_point}\")"
   ],
   "id": "dd4977f929de8b90",
   "outputs": [
    {
     "name": "stdout",
     "output_type": "stream",
     "text": [
      "Минимум функции: значение = -1.0, точка = -1.0\n"
     ]
    }
   ],
   "execution_count": 2
  },
  {
   "metadata": {
    "ExecuteTime": {
     "end_time": "2024-12-26T18:03:59.202642Z",
     "start_time": "2024-12-26T18:03:56.295924Z"
    }
   },
   "cell_type": "code",
   "source": [
    "def sinX(n):\n",
    "    # Решаем уравнение f'(x)= 0 = 2cos(x), когда cos(x) = 0\n",
    "    solutions = []\n",
    "    intervals = []\n",
    "    minimum = []\n",
    "    # Диапозон поиска решений\n",
    "    # cos(x) = 0, когда x = π/2 + kπ\n",
    "    for i in range(-n, n + 1):\n",
    "        x = round(((2 * i + 1) * (3.14 / 2)),4) #прогоняем по периодам, соответсвующим условиям\n",
    "        solutions.append(x)\n",
    "\n",
    "    # def f_double_prime(x): #f''(x) = -2sin(x)     # Вторая производная\n",
    "    for i in range(-n, n + 1): #Строим интервалы (nπ, (n+1)π) для всех нечетных n\n",
    "        if i % 2 != 0:  # i нечетное\n",
    "            start = round((i * 3.14), 4)\n",
    "            end = round((i + 1) * 3.14, 4)\n",
    "            intervals.append((start, end))\n",
    "# Тут как в прошлом примере, надо подставить значения 'solutions' в вторую производную за место 'x', если оно будет > 0, то это точка минимума.\n",
    "    for start, end in intervals:\n",
    "        for j in range(len(solutions)):\n",
    "            if start < solutions[j] < end:\n",
    "                minimum.append(solutions[j]) \n",
    "    return minimum\n",
    "\n",
    "a = int(input('+- в каком диапазоне искать минимумы (введите одно целое число)'))\n",
    "print(f\"Критические точки, в диапазоне {-a} - {a}, где функция принимает минимальное значение: {sinX(a)}\")"
   ],
   "id": "99bbd4b7b2e14e8e",
   "outputs": [
    {
     "name": "stdout",
     "output_type": "stream",
     "text": [
      "Критические точки, в диапазоне -10 - 10, где функция принимает минимальное значение: [-26.69, -20.41, -14.13, -7.85, -1.57, 4.71, 10.99, 17.27, 23.55, 29.83]\n"
     ]
    }
   ],
   "execution_count": 3
  },
  {
   "metadata": {
    "ExecuteTime": {
     "end_time": "2024-12-25T17:30:15.608623Z",
     "start_time": "2024-12-25T17:30:15.606523Z"
    }
   },
   "cell_type": "code",
   "source": "#Я сглупил и только потом понял, что надо в тетрадке работать, так что решать еще одно уравнение точно сил не хватит. ",
   "id": "d2e046fd62a186eb",
   "outputs": [],
   "execution_count": 73
  },
  {
   "metadata": {},
   "cell_type": "code",
   "outputs": [],
   "execution_count": null,
   "source": "",
   "id": "b4033932c4724521"
  }
 ],
 "metadata": {
  "kernelspec": {
   "display_name": "Python 3",
   "language": "python",
   "name": "python3"
  },
  "language_info": {
   "codemirror_mode": {
    "name": "ipython",
    "version": 2
   },
   "file_extension": ".py",
   "mimetype": "text/x-python",
   "name": "python",
   "nbconvert_exporter": "python",
   "pygments_lexer": "ipython2",
   "version": "2.7.6"
  }
 },
 "nbformat": 4,
 "nbformat_minor": 5
}
