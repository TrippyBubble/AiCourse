{
 "cells": [
  {
   "cell_type": "code",
   "id": "initial_id",
   "metadata": {
    "collapsed": true,
    "ExecuteTime": {
     "end_time": "2024-12-26T18:02:22.751928Z",
     "start_time": "2024-12-26T18:02:22.747355Z"
    }
   },
   "source": [
    "def x_powered(x: float, n: int) -> float:\n",
    "    i = 1 \n",
    "    xx = x\n",
    "    while n!= i:\n",
    "        xx = x * xx\n",
    "        i+=1\n",
    "    return xx\n",
    "        \n",
    "x_powered(5, 2)"
   ],
   "outputs": [
    {
     "data": {
      "text/plain": [
       "25"
      ]
     },
     "execution_count": 1,
     "metadata": {},
     "output_type": "execute_result"
    }
   ],
   "execution_count": 1
  },
  {
   "metadata": {
    "ExecuteTime": {
     "end_time": "2024-12-26T18:02:23.340219Z",
     "start_time": "2024-12-26T18:02:23.337250Z"
    }
   },
   "cell_type": "code",
   "source": [
    "def max_list(list_of_numbers: list) -> float: \n",
    "    max = list_of_numbers[0]\n",
    "    for i in range(len(list_of_numbers)):\n",
    "        if list_of_numbers[i] > max:\n",
    "            max = list_of_numbers[i]\n",
    "    return max \n",
    "\n",
    "max_list([5, 6, 2, 1, 2, 8])"
   ],
   "id": "fb274bcbd78b506a",
   "outputs": [
    {
     "data": {
      "text/plain": [
       "8"
      ]
     },
     "execution_count": 2,
     "metadata": {},
     "output_type": "execute_result"
    }
   ],
   "execution_count": 2
  },
  {
   "metadata": {
    "ExecuteTime": {
     "end_time": "2024-12-26T18:02:24.261446Z",
     "start_time": "2024-12-26T18:02:24.257482Z"
    }
   },
   "cell_type": "code",
   "source": [
    "def n_row_pascal_triangle(n: int = 0) -> list:\n",
    "    base = [0, 1, 0]\n",
    "    for i in range(n):\n",
    "        base = [0] + [base[i] + base[i + 1] for i in range(len(base) - 1)] + [0]\n",
    "    return base\n",
    "\n",
    "n_row_pascal_triangle(5)"
   ],
   "id": "cf374f10ad86a5fa",
   "outputs": [
    {
     "data": {
      "text/plain": [
       "[0, 1, 5, 10, 10, 5, 1, 0]"
      ]
     },
     "execution_count": 3,
     "metadata": {},
     "output_type": "execute_result"
    }
   ],
   "execution_count": 3
  },
  {
   "metadata": {
    "ExecuteTime": {
     "end_time": "2024-12-26T18:02:25.055333Z",
     "start_time": "2024-12-26T18:02:25.050340Z"
    }
   },
   "cell_type": "code",
   "source": [
    "def sort_list(lst: list = None) -> list:\n",
    "    for i in range(len(lst)-1):\n",
    "        if lst[i+1] > lst[i]:\n",
    "            lst[i], lst[i + 1] = lst[i + 1], lst[i]\n",
    "    return lst\n",
    "sort_list([1, 4, 8, 2, 5, 7, 21, 7, 8, 254, 5])"
   ],
   "id": "e1af85ab478534be",
   "outputs": [
    {
     "data": {
      "text/plain": [
       "[4, 8, 2, 5, 7, 21, 7, 8, 254, 5, 1]"
      ]
     },
     "execution_count": 4,
     "metadata": {},
     "output_type": "execute_result"
    }
   ],
   "execution_count": 4
  },
  {
   "metadata": {
    "ExecuteTime": {
     "end_time": "2024-12-26T18:02:26.278286Z",
     "start_time": "2024-12-26T18:02:25.776598Z"
    }
   },
   "cell_type": "code",
   "source": "!pip install numpy",
   "id": "c7b8114a30147b9b",
   "outputs": [
    {
     "name": "stdout",
     "output_type": "stream",
     "text": [
      "Requirement already satisfied: numpy in /Library/Frameworks/Python.framework/Versions/3.12/lib/python3.12/site-packages (2.2.1)\r\n",
      "\r\n",
      "\u001B[1m[\u001B[0m\u001B[34;49mnotice\u001B[0m\u001B[1;39;49m]\u001B[0m\u001B[39;49m A new release of pip is available: \u001B[0m\u001B[31;49m24.2\u001B[0m\u001B[39;49m -> \u001B[0m\u001B[32;49m24.3.1\u001B[0m\r\n",
      "\u001B[1m[\u001B[0m\u001B[34;49mnotice\u001B[0m\u001B[1;39;49m]\u001B[0m\u001B[39;49m To update, run: \u001B[0m\u001B[32;49mpython -m pip install --upgrade pip\u001B[0m\r\n"
     ]
    }
   ],
   "execution_count": 5
  },
  {
   "metadata": {
    "ExecuteTime": {
     "end_time": "2024-12-26T18:02:26.894224Z",
     "start_time": "2024-12-26T18:02:26.844027Z"
    }
   },
   "cell_type": "code",
   "source": [
    "import numpy as np\n",
    "\n",
    "class NeuralNetwork():\n",
    "    def __init__(self, weight: int = 1, nick: str = None):\n",
    "        self.weight = weight\n",
    "        self.nick = nick\n",
    "        self.output = None\n",
    "        # здесь необходимо установить для объекта все его параметры, например self.weight = weight, и далее по списку\n",
    "\n",
    "    def forward(self, data: list = None) -> None:\n",
    "        if data is not None:\n",
    "            self.output = [x * self.weight for x in data]\n",
    "    # Реализуйте метод, который будет умножать каждое число списка data умножать на коэффициент self.weight, после чего сохранять его в модели как атрибут \n",
    "\n",
    "    def backward(self, loss: float = 6e-3) -> list:\n",
    "        if self.output is not None:\n",
    "            return [x / loss for x in self.output]\n",
    "        return []\n",
    "    # Поделите каждый элемент выхода с forward на коэффициент loss, и верните результирующий список\n",
    "\n",
    "\n",
    "nn = NeuralNetwork(weight = 3, nick = \"doggy\")\n",
    "data = np.random.rand(100, 1)[0]\n",
    "\n",
    "nn.forward(data)\n",
    "loss = np.random.rand(1)[0]\n",
    "\n",
    "prediction = nn.backward(loss)\n",
    "\n",
    "print(prediction)"
   ],
   "id": "be108926a3379423",
   "outputs": [
    {
     "name": "stdout",
     "output_type": "stream",
     "text": [
      "[np.float64(0.864283041558738)]\n"
     ]
    }
   ],
   "execution_count": 6
  },
  {
   "metadata": {
    "ExecuteTime": {
     "end_time": "2024-12-10T17:11:33.085095Z",
     "start_time": "2024-12-10T17:11:33.083334Z"
    }
   },
   "cell_type": "code",
   "source": "",
   "id": "2cbbfcaeabb7e59f",
   "outputs": [],
   "execution_count": null
  }
 ],
 "metadata": {
  "kernelspec": {
   "display_name": "Python 3",
   "language": "python",
   "name": "python3"
  },
  "language_info": {
   "codemirror_mode": {
    "name": "ipython",
    "version": 2
   },
   "file_extension": ".py",
   "mimetype": "text/x-python",
   "name": "python",
   "nbconvert_exporter": "python",
   "pygments_lexer": "ipython2",
   "version": "2.7.6"
  }
 },
 "nbformat": 4,
 "nbformat_minor": 5
}
